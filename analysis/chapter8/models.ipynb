{
 "cells": [
  {
   "cell_type": "markdown",
   "metadata": {},
   "source": [
    "## Chapter 8 Spatial Models"
   ]
  },
  {
   "cell_type": "code",
   "execution_count": null,
   "metadata": {
    "vscode": {
     "languageId": "r"
    }
   },
   "outputs": [],
   "source": [
    "rm(list = ls())\n",
    "# install.packages(\"brms\")\n",
    "# install.packages(\"tidyverse\")\n",
    "# install.packages(\"modelr\")\n",
    "# install.packages(\"tidybayes\")\n",
    "library(brms)\n",
    "library(modelr)\n",
    "library(tidybayes)\n",
    "library(dplyr)\n",
    "#library(cowplot)\n",
    "source(\"/Users/chrisweber/Desktop/Authoritarianism_V2/Authoritarianism_V2/configurations/configurations.r\")\n",
    "source(\"/Users/chrisweber/Desktop/Authoritarianism_V2/Authoritarianism_V2/configurations/user_functions.r\")\n",
    "data_location = \"/Users/chrisweber/Desktop/Authoritarianism_V2/Authoritarianism_V2/clean_data/\"\n",
    "setwd(\"/Users/chrisweber/Desktop/Authoritarianism_V2/Authoritarianism_V2/Chapters/Chapters/Chapter8\")\n",
    "# for all chapters\n",
    "##### Data Recodes #####\n",
    "load(\"/Users/chrisweber/Desktop/Authoritarianism_V2/Authoritarianism_V2/clean_data/pooled.auth.rda\")  ### Just work from this data; everything should be here, recoded.\n",
    "data$authoritarianism<-(rowMeans(cbind(data$auth.1.x, data$auth.2.x,data$auth.3.x, data$auth.4.x), na.rm=T)-1)\n",
    "data$party3<-car::recode(data$pid*6+1, \"1:2='Democrat'; 3:5='Independent'; 6:7='Republican'; else=NA\" )\n",
    "data$republican<-car::recode(data$pid*6+1, \"1:2=0; 3:5=0; 6:7=1\" )\n",
    "data$democrat<-car::recode(data$pid*6+1, \"1:2=1; 3:5=0; 6:7=0\" )\n",
    "data$independent<-car::recode(data$pid*6+1, \"1:2=0; 3:5=1; 6:7=0\" )\n",
    "cor.test(data$know.interview.pre, data$know.interview.post)\n",
    "data$knowledge<-(rowMeans(cbind(data$know.interview.pre, data$know.interview.post), na.rm=T)-1)/4\n",
    "\n",
    "data$ideologyCD<-(data$ideologyCD-1)/6\n",
    "data$ideologyCR<-(data$ideologyCR-1)/6\n",
    "\n",
    "data$ideologyD<-(data$ideologyD-1)/6\n",
    "data$ideologyR<-(data$ideologyR-1)/6\n",
    "\n",
    "### Difference measures\n",
    "  data$difference_2<-(data$ideologyR-data$ideologyD)^2\n",
    "  data$difference_abs<-data$ideologyR-data$ideologyD %>% abs()\n",
    "  data$difference<-data$ideologyR-data$ideologyD \n",
    "\n",
    "  data$differenceR1<-data$ideology-data$ideologyR\n",
    "  data$differenceD1<-data$ideology-data$ideologyD\n",
    "  data$proximity<-(data$ideology-data$ideologyD)^2-(data$ideology-data$ideologyR)^2\n",
    "  data$differenceR2<-(data$ideology-data$ideologyR)^2\n",
    "  data$differenceD2<-(data$ideology-data$ideologyD)^2  \n",
    "  data$mode<-as.character(data$mode)\n",
    "  \n",
    "\n",
    "\n",
    "  data$diffR<-data$ideology-data$ideologyR\n",
    "  data$diffD<-data$ideology-data$ideologyD\n",
    "  \n",
    "  data$diffCR<-data$ideology-data$ideologyCR\n",
    "  data$diffCD<-data$ideology-data$ideologyCD\n",
    "\n",
    "data = data %>%\n",
    "  mutate(cenD = if_else(diffD >=1, \"right\", \"none\")) %>%\n",
    "  mutate(cenR = if_else(diffR <=-1, \"left\", \"none\"))\n",
    "\n",
    "ggtheme = theme(\n",
    "        plot.title=element_text(face=\"bold\",hjust=0,vjust=0,colour=\"#3C3C3C\",size=20),\n",
    "        axis.text.x=element_text(size=16,colour=\"#535353\",face=\"bold\"),\n",
    "        axis.text.y=element_text(size=16,colour=\"#535353\",face=\"bold\"),\n",
    "        axis.title = element_text(size=16,colour=\"#535353\",face=\"bold\"),\n",
    "        axis.title.y=element_text(size=16,colour=\"#535353\",face=\"bold\",vjust=1.5),\n",
    "        axis.ticks=element_blank(),\n",
    "        strip.text.x = element_text(size = 16),\n",
    "        panel.grid.major=element_line(colour=\"#D0D0D0\",size=.25),\n",
    "        panel.background=element_rect(fill=\"white\"),\n",
    "        legend.text=element_text(size=14),\n",
    "        legend.title=element_text(size=16)) "
   ]
  },
  {
   "cell_type": "markdown",
   "metadata": {},
   "source": [
    "We may choose not to present all this, but it might still be useful in constructing our narrative. The place to start with a spatial model is to first examine trends over time, particularly since the ideology of the respondent, and perceptions may change over time. "
   ]
  },
  {
   "cell_type": "markdown",
   "metadata": {},
   "source": [
    "## Perceptions of the Parties\n",
    "\n",
    "Since the items are all measured on the same metric, we can use the perceptions of the parties as the candidate's ideal point.\n",
    "\n"
   ]
  },
  {
   "cell_type": "code",
   "execution_count": null,
   "metadata": {
    "vscode": {
     "languageId": "r"
    }
   },
   "outputs": [],
   "source": [
    "### I create smaller, more tractable versions of the data rather than operating on the full data frame, data.\n",
    "tmp_dat = data[,c(\"ideologyCR\", \"ideologyCD\", \"vote\", \"ideology\", \"authoritarianism\", \n",
    "                 \"female\", \"age\", \"college\", \"income\",\n",
    "                 \"jewish\", \"catholic\", \"other\", \"year\")] %>% na.omit() %>% \n",
    "                 mutate(authoritarianism_2 = authoritarianism*authoritarianism) \n",
    "\n",
    "bf1 = bf(mvbind(ideologyCR, ideologyCD) ~ authoritarianism + authoritarianism_2 + \n",
    "                 (1+authoritarianism + authoritarianism_2|year))\n",
    "     \n",
    "model_ideology1 <- brm(bf1 + set_rescor(FALSE), \n",
    "                 family = \"gaussian\",\n",
    "                  data = tmp_dat,\n",
    "                  chains = 3, \n",
    "                  cores = 8, \n",
    "                  seed = 1234, \n",
    "                  iter = 3000)             "
   ]
  },
  {
   "cell_type": "markdown",
   "metadata": {},
   "source": [
    "## Alignment\n",
    "\n",
    "This is part of the story, but really we're interested in one's perceived distance -- how far is the candidate from one's ideological ideal point?"
   ]
  },
  {
   "cell_type": "code",
   "execution_count": null,
   "metadata": {
    "vscode": {
     "languageId": "r"
    }
   },
   "outputs": [],
   "source": [
    "### I create smaller, more tractable versions of the data rather than operating on the full data frame, data.\n",
    "tmp_dat = data[,c(\"diffCR\", \"diffCD\", \"vote\", \"ideology\", \"authoritarianism\", \n",
    "                 \"female\", \"age\", \"college\", \"income\",\n",
    "                 \"jewish\", \"catholic\", \"other\", \"year\")] %>% na.omit() %>% \n",
    "                 mutate(authoritarianism_2 = authoritarianism*authoritarianism) \n",
    "\n",
    "bf1 = bf(mvbind(diffCR, diffCD) ~ authoritarianism + authoritarianism_2 + \n",
    "                 (1+authoritarianism + authoritarianism_2|year))\n",
    "     \n",
    "model_ideology2 <- brm(bf1 + set_rescor(FALSE), \n",
    "                 family = \"gaussian\",\n",
    "                  data = tmp_dat,\n",
    "                  chains = 3, \n",
    "                  cores = 8, \n",
    "                  seed = 1234, \n",
    "                  iter = 3000)             "
   ]
  },
  {
   "cell_type": "markdown",
   "metadata": {},
   "source": [
    "# Building a Spatial Model\n",
    "\n",
    "The first thing to consider is that some voters incorrectly locate the parties. I'll create several variables\n",
    "\n",
    "* Ideological knowledge. Create a dummy coded 1 if participants correctly locate the Republican candidate to the right of the Democratic candidate, 0 if the answer was incorrect.\n",
    "\n",
    "* Indifference. I'll address this in a slightly different way in a bit, but we could also classify those with a score of zero on both scales to be completely indifferent to one candidate or the other.\n",
    "\n",
    "* Extremists. These are individuals who rate themselves to the \"left\" of the Democratic candidate and individuals who rate themselves to the right of the Republican candidate."
   ]
  },
  {
   "cell_type": "code",
   "execution_count": null,
   "metadata": {
    "vscode": {
     "languageId": "r"
    }
   },
   "outputs": [],
   "source": [
    "tmp_dat = data[,c(\"ideologyCR\", \"ideologyCD\", \"diffCD\", \"diffCR\", \"authoritarianism\", \n",
    "                 \"female\", \"age\", \"college\", \"income\",\n",
    "                 \"jewish\", \"catholic\", \"other\", \"year\")] %>% na.omit() %>% \n",
    "                 mutate(authoritarianism_2 = authoritarianism*authoritarianism) %>% \n",
    "                mutate(confused    = ifelse(ideologyCR < ideologyCD, 1, 0)) %>% \n",
    "                mutate(indifferent = ifelse(diffCR ==  diffCD, 1, 0)) %>% \n",
    "                mutate(extremeR     = ifelse((diffCD > 0 & diffCR > 0), 1, 0))  %>%\n",
    "                mutate(extremeD     = ifelse((diffCD < 0 & diffCR < 0), 1, 0))  \n",
    "fit1 <- brm(confused~  authoritarianism + authoritarianism_2 + \n",
    "                 (1+authoritarianism + authoritarianism_2|year), \n",
    "                 family = bernoulli(link = \"probit\"),\n",
    "                 data = tmp_dat, \n",
    "                 chains = 3, cores = 8, seed = 1234, \n",
    "                 iter = 2000)\n",
    "fit2 <- brm(indifferent~  authoritarianism + authoritarianism_2 + \n",
    "                 (1+authoritarianism + authoritarianism_2|year), \n",
    "                 family = bernoulli(link = \"probit\"),\n",
    "                 data = tmp_dat, \n",
    "                 chains = 3, cores = 8, seed = 1234, \n",
    "                 iter = 2000)\n",
    "fit3 <- brm(extremeR~  authoritarianism + authoritarianism_2 + \n",
    "                 (1+authoritarianism + authoritarianism_2|year), \n",
    "                 family = bernoulli(link = \"probit\"),\n",
    "                 data = tmp_dat, \n",
    "                 chains = 3, cores = 8, seed = 1234, \n",
    "                 iter = 2000)\n",
    "fit4 <- brm(extremeD~  authoritarianism + authoritarianism_2 + \n",
    "                 (1+authoritarianism + authoritarianism_2|year), \n",
    "                 family = bernoulli(link = \"probit\"),\n",
    "                 data = tmp_dat, \n",
    "                 chains = 3, cores = 8, seed = 1234, \n",
    "                 iter = 2000)"
   ]
  },
  {
   "cell_type": "markdown",
   "metadata": {},
   "source": [
    "# Do Authoritarians \"Vote Correctly\"?"
   ]
  },
  {
   "cell_type": "markdown",
   "metadata": {},
   "source": [
    "To build the spatial model, it's important to rescale the ideology variable. The derivation is below."
   ]
  },
  {
   "cell_type": "code",
   "execution_count": null,
   "metadata": {
    "vscode": {
     "languageId": "r"
    }
   },
   "outputs": [],
   "source": [
    "tmp_dat = data[,c(\"vote\", \"ideology\", \"authoritarianism\", \"ideologyCR\", \"ideologyCD\",\n",
    "                 \"female\", \"age\", \"college\", \"income\", \"party3\",\n",
    "                 \"jewish\", \"catholic\", \"other\", \"year\")] %>% na.omit() %>% \n",
    "                 mutate(authoritarianism_2 = authoritarianism*authoritarianism) %>% \n",
    "                 mutate(confused    = ifelse(ideologyCR <= ideologyCD, 1, 0)) %>% \n",
    "                 filter(confused == 0) %>% \n",
    "                 group_by(year) %>% \n",
    "                 mutate(mean_democrat  = mean(ideologyCD)) %>% \n",
    "                 mutate(mean_republican= mean(ideologyCR)) %>% \n",
    "                 mutate(ideology_converted = (0.5 * (ideology - mean_democrat)/(mean_republican - mean_democrat)-0.25)) %>%               \n",
    "                 mutate(republican = ifelse(party3  == \"Republican\", 1, 0))%>% \n",
    "                 mutate(independent = ifelse(party3 == \"Independent\", 1, 0))%>% \n",
    "                 mutate(democrat = ifelse(party3 == \"Democrat\", 1, 0))%>% \n",
    "                 mutate(authoritarianism_2 = authoritarianism*authoritarianism)\n",
    "\n",
    "fit_spatial1 <- brm(vote~ ideology_converted +  (1 +ideology_converted|year), \n",
    "                 family = bernoulli(link = \"probit\"),\n",
    "                 data = tmp_dat,\n",
    "                 chains = 2, \n",
    "                 cores = 6, \n",
    "                 seed = 1234, \n",
    "                iter = 4000,\n",
    "                control = list(max_treedepth = 15))   \n",
    "\n",
    "fit_spatial2 <- brm(vote~ republican + independent + ideology_converted +  (1 + republican + independent +\n",
    "                            ideology_converted |year), \n",
    "                 family = bernoulli(link = \"probit\"),\n",
    "                 data = tmp_dat,\n",
    "                 chains = 2, \n",
    "                 cores = 6, \n",
    "                 seed = 1234, \n",
    "                iter = 10000,\n",
    "                control = list(max_treedepth = 15)) \n",
    "fit_spatial3 <- brm(vote~  authoritarianism + authoritarianism_2 + ideology_converted + \n",
    "                           authoritarianism:ideology_converted + authoritarianism_2:ideology_converted + \n",
    "                 (1 +  authoritarianism:ideology_converted + authoritarianism_2:ideology_converted +\n",
    "                 authoritarianism + authoritarianism_2 + ideology_converted|year),\n",
    "                 family = bernoulli(link = \"probit\"),\n",
    "                 data = tmp_dat,\n",
    "                 chains = 2, \n",
    "                 cores = 6, \n",
    "                 seed = 1234, \n",
    "                 iter = 10000,\n",
    "                 control = list(max_treedepth = 15)) \n"
   ]
  },
  {
   "cell_type": "markdown",
   "metadata": {},
   "source": [
    "# Education Effects"
   ]
  },
  {
   "cell_type": "code",
   "execution_count": null,
   "metadata": {
    "vscode": {
     "languageId": "r"
    }
   },
   "outputs": [],
   "source": [
    "tmp_dat = data[,c(\"vote\", \"ideology\", \"authoritarianism\", \"ideologyCR\", \"ideologyCD\",\n",
    "                 \"female\", \"age\", \"college\", \"income\", \"party3\",\n",
    "                 \"jewish\", \"catholic\", \"other\", \"year\", \"college\")] %>% na.omit() %>% \n",
    "                 mutate(authoritarianism_2 = authoritarianism*authoritarianism) %>% \n",
    "                 mutate(confused    = ifelse(ideologyCR <= ideologyCD, 1, 0)) %>% \n",
    "                 filter(confused == 0) %>% \n",
    "                 group_by(year) %>% \n",
    "                 mutate(mean_democrat  = mean(ideologyCD)) %>% \n",
    "                 mutate(mean_republican= mean(ideologyCR)) %>% \n",
    "                 mutate(ideology_converted = (0.5 * (ideology - mean_democrat)/(mean_republican - mean_democrat)-0.25)) %>%               \n",
    "                 mutate(republican = ifelse(party3  == \"Republican\", 1, 0))%>% \n",
    "                 mutate(independent = ifelse(party3 == \"Independent\", 1, 0))%>% \n",
    "                 mutate(democrat = ifelse(party3 == \"Democrat\", 1, 0))%>% \n",
    "                 mutate(authoritarianism_2 = authoritarianism*authoritarianism)\n",
    "\n",
    "fit_spatial4 <- brm(vote~  authoritarianism + authoritarianism_2 + ideology_converted + college + \n",
    "                           college:ideology_converted + college:ideology_converted +\n",
    "                           college:authoritarianism + college:authoritarianism_2 +\n",
    "                           authoritarianism:ideology_converted + authoritarianism_2:ideology_converted + \n",
    "                           authoritarianism:ideology_converted:college + authoritarianism_2:ideology_converted:college +\n",
    "                 (1 +  authoritarianism + authoritarianism_2 + ideology_converted + college + \n",
    "                           college:ideology_converted + college:ideology_converted +\n",
    "                           college:authoritarianism + college:authoritarianism_2 +\n",
    "                           authoritarianism:ideology_converted + authoritarianism_2:ideology_converted + \n",
    "                           authoritarianism:ideology_converted:college + authoritarianism_2:ideology_converted:college|year),\n",
    "                 family = bernoulli(link = \"probit\"),\n",
    "                 data = tmp_dat,\n",
    "                 chains = 2, \n",
    "                 cores = 6, \n",
    "                 seed = 1234, \n",
    "                 iter = 10000,\n",
    "                 control = list(max_treedepth = 15)) \n"
   ]
  },
  {
   "cell_type": "code",
   "execution_count": 22,
   "metadata": {
    "vscode": {
     "languageId": "r"
    }
   },
   "outputs": [],
   "source": [
    "# Save data\n",
    "spatial = list(model_ideology1, model_ideology2, fit1, fit2, \n",
    "               fit3, fit4, fit_spatial1, fit_spatial2, fit_spatial3, fit_spatial4)\n",
    "save(spatial, file = \"spatial.rda\")"
   ]
  },
  {
   "cell_type": "markdown",
   "metadata": {},
   "source": [
    "# Perceived Partisan Polarization \n",
    "\n",
    "Are authoritarians motivated by the perception that the political parties are divided?"
   ]
  },
  {
   "cell_type": "code",
   "execution_count": null,
   "metadata": {
    "vscode": {
     "languageId": "r"
    }
   },
   "outputs": [],
   "source": [
    "tmp_dat = data[,c(\"vote\", \"ideology\", \"authoritarianism\", \"ideologyCR\", \"ideologyCD\",\n",
    "                 \"female\", \"age\", \"college\", \"income\", \"party3\",\n",
    "                 \"jewish\", \"catholic\", \"other\", \"year\", \"difference\", \"difference_2\", \"difference_abs\")] %>% na.omit() %>% \n",
    "                 mutate(authoritarianism_2 = authoritarianism*authoritarianism) %>% \n",
    "                 mutate(confused    = ifelse(ideologyCR <= ideologyCD, 1, 0)) %>% \n",
    "                 filter(confused == 0) %>% \n",
    "                 group_by(year) %>% \n",
    "                 mutate(mean_democrat  = mean(ideologyCD)) %>% \n",
    "                 mutate(mean_republican= mean(ideologyCR)) %>% \n",
    "                 mutate(ideology_converted = (0.5 * (ideology - mean_democrat)/(mean_republican - mean_democrat)-0.25)) %>%               \n",
    "                 mutate(republican = ifelse(party3  == \"Republican\", 1, 0))%>% \n",
    "                 mutate(independent = ifelse(party3 == \"Independent\", 1, 0))%>% \n",
    "                 mutate(democrat = ifelse(party3 == \"Democrat\", 1, 0))%>% \n",
    "                 mutate(authoritarianism_2 = authoritarianism*authoritarianism)%>% \n",
    "                 mutate(difference = (difference)^2)\n",
    "\n",
    "difference_model <- brm(vote~ \n",
    "                          authoritarianism + authoritarianism_2 + ideology_converted + difference_2 + \n",
    "                          difference_2:authoritarianism + difference_2:authoritarianism_2 + ideology_converted:difference_2 + \n",
    "                          difference_2:ideology_converted:authoritarianism + difference_2:ideology_converted:authoritarianism_2 +\n",
    "                                    (1 + authoritarianism + authoritarianism_2 + \n",
    "                                         ideology_converted + difference_2 + \n",
    "                                         difference_2:authoritarianism + difference_2:authoritarianism_2 + \n",
    "                                         ideology_converted:difference_2 + \n",
    "                                         difference_2:ideology_converted:authoritarianism + \n",
    "                                         difference_2:ideology_converted:authoritarianism_2|year), \n",
    "                 family = bernoulli(link = \"probit\"),\n",
    "                 data = tmp_dat,\n",
    "                 chains = 2, \n",
    "                 cores = 8, \n",
    "                 seed = 1234, \n",
    "                iter = 5000,\n",
    "                control = list(max_treedepth = 15)) \n",
    "\n",
    "\n",
    "# difference_model1 <- brm(vote~ \n",
    "#                           authoritarianism + authoritarianism_2 + ideology_converted + difference + \n",
    "#                           difference:authoritarianism + difference:authoritarianism_2 + ideology_converted:difference + \n",
    "#                           difference:ideology_converted:authoritarianism + difference:ideology_converted:authoritarianism_2 +\n",
    "#                                     (1 + authoritarianism + authoritarianism_2 + \n",
    "#                                          ideology_converted + difference + \n",
    "#                                          difference:authoritarianism + difference:authoritarianism_2 + \n",
    "#                                          ideology_converted:difference + \n",
    "#                                          difference:ideology_converted:authoritarianism + \n",
    "#                                          difference:ideology_converted:authoritarianism_2|year), \n",
    "#                  family = bernoulli(link = \"probit\"),\n",
    "#                  data = tmp_dat,\n",
    "#                  chains = 2, \n",
    "#                  cores = 8, \n",
    "#                  seed = 1234, \n",
    "#                 iter = 5000,\n",
    "#                 control = list(max_treedepth = 15)) \n",
    "\n",
    "\n"
   ]
  },
  {
   "cell_type": "code",
   "execution_count": 7,
   "metadata": {
    "vscode": {
     "languageId": "r"
    }
   },
   "outputs": [],
   "source": [
    "save(difference_model, file = \"diff_model.rda\")\n"
   ]
  },
  {
   "cell_type": "markdown",
   "metadata": {},
   "source": [
    "------"
   ]
  },
  {
   "cell_type": "markdown",
   "metadata": {},
   "source": [
    "\\begin{equation}\n",
    "x' &=& &x \\sin\\phi &+& z \\cos\\phi \\\\\n",
    "z' &=& - &x \\cos\\phi &+& z \\sin\\phi \\\\\n",
    "\\end{equation}"
   ]
  }
 ],
 "metadata": {
  "kernelspec": {
   "display_name": "R",
   "language": "R",
   "name": "ir"
  },
  "language_info": {
   "codemirror_mode": "r",
   "file_extension": ".r",
   "mimetype": "text/x-r-source",
   "name": "R",
   "pygments_lexer": "r",
   "version": "4.1.3"
  },
  "orig_nbformat": 4
 },
 "nbformat": 4,
 "nbformat_minor": 2
}
