{
 "cells": [
  {
   "cell_type": "markdown",
   "metadata": {},
   "source": [
    "# Statistical Models in Chapter 6\n",
    "\n",
    "The transition to a quadratic model -- along with the interactions -- proved to be somewhat intractable. So, I ended up using a Bayesian Multilevel Model to estimate these effects. It's actually amazingly simple, and some of the GGPLOT functions make for a more effective graphical presentation. \n",
    "\n",
    "* Multilevel model using BRMS, as opposed to 7 individual regression models corresponding to each year. This requires fitting one model, as opposed to 7.\n",
    "* The approach makes it easy to compare different models.\n",
    "* Use posterior predictions to generate point predictions/confidence regions.\n",
    "\n",
    "The raw data are stored in the github drive entitled $\\texttt{pooled.auth.rda}$. All the \"source\" files are also in the github repo. \n",
    "\n",
    "The workflow is as follows\n",
    "\n",
    "* Estimate all regression models, save the output. This is achieved in this notebook. It creates a number of files -- it does take a good amount of time to estimate everything. Much of it is probably overkill. The traceplots and other diagnostics all look fine. I'm not sure it takes the number of iterations specified to reach convergence. It's useful to run everything. I then process the models in a separate notebook.\n",
    "* Post-process these regression models, forming the notebook called \"post_process.ipynb.\" Figures and graphics are shown in this notebook.\n",
    "\n",
    "I followed a multilevel approach. \n",
    "\n",
    "$pr(y_{i,t}| x_{auth, i, t}; x^2_{auth, i, t}; z_{k, i, t}) =\\beta_{0,k} + \\beta_{1,t} x_{auth, i, t} +  \\beta_{2,t} x_{auth, i, t}^2 + \\sum_{k=1}^K \\beta_k z_{k,i,t} +  \\epsilon_{t} +  \\epsilon_{i,t}$\n",
    "\n",
    "where $K$ denotes the number of control variables, $t$ cross-sectional year, and $i$, the $i$ th respondent (nested within the $t$ ANES survey). Wide priors were used for all the parameters, and the correlations between slopes and intercepts were always estimated (with the exception of the random intercept only model). Logistic regression was used for voting, multinomial logit for party identification, and linear regression for the affective polarization analysis. Throughout the analysis, I also specify interactions between authoritarianism and education. The output is then saved to three lists, analyzed in the *post_process* notebook.\n",
    "\n",
    "This analysis places data in the folder that is then loaded in the post_process notebook.\n"
   ]
  },
  {
   "cell_type": "code",
   "execution_count": null,
   "metadata": {
    "vscode": {
     "languageId": "r"
    }
   },
   "outputs": [],
   "source": [
    "##Load dependencies, packages, data, etc ##\n",
    "# More transformations and data recodes.....\n",
    "rm(list = ls())\n",
    "library(brms)\n",
    "#library(tidyverse)\n",
    "library(ggplot2)\n",
    "library(modelr)\n",
    "library(tidybayes)\n",
    "library(dplyr)\n",
    "library(cowplot)\n",
    "#### Load cleaned data\n",
    "\n",
    "rm(list = ls())\n",
    "options(warn = -1)\n",
    "\n",
    "library(brms)\n",
    "# library(tidyverse)\n",
    "library(ggplot2)\n",
    "library(modelr)\n",
    "library(tidybayes)\n",
    "library(dplyr)\n",
    "library(cowplot)\n",
    "setwd(\"/Users/Chris/Dropbox/github_repos/Authoritarianism_V2/\")\n",
    "source(\"config/configurations.r\")\n",
    "# Quiet warnings\n",
    "load(paste0(data.directory, \"cumulativeANES_White.rda\"))\n"
   ]
  },
  {
   "cell_type": "code",
   "execution_count": 2,
   "metadata": {
    "vscode": {
     "languageId": "r"
    }
   },
   "outputs": [
    {
     "data": {
      "text/html": [
       "<style>\n",
       ".list-inline {list-style: none; margin:0; padding: 0}\n",
       ".list-inline>li {display: inline-block}\n",
       ".list-inline>li:not(:last-child)::after {content: \"\\00b7\"; padding: 0 .5ex}\n",
       "</style>\n",
       "<ol class=list-inline><li>'abortion'</li><li>'age'</li><li>'aid.blacks'</li><li>'aid.blacksCD'</li><li>'aid.blacksCR'</li><li>'aid.blacksD'</li><li>'aid.blacksR'</li><li>'anger.dem'</li><li>'anger.rep'</li><li>'auth.1'</li><li>'auth.2'</li><li>'auth.3'</li><li>'auth.4'</li><li>'bible'</li><li>'black'</li><li>'catholic'</li><li>'church'</li><li>'college'</li><li>'defense.spendingCD'</li><li>'defense.spendingCR'</li><li>'defense.spendingD'</li><li>'defense.spendingR'</li><li>'dem.afraid'</li><li>'dem.angry'</li><li>'dem.cares'</li><li>'dem.decent'</li><li>'dem.hope'</li><li>'dem.know'</li><li>'dem.leader'</li><li>'efficacy1'</li><li>'efficacy2'</li><li>'efficacy3'</li><li>'efficacy4'</li><li>'efficacy5'</li><li>'efficacy6'</li><li>'efficacy7'</li><li>'egal1'</li><li>'egal2'</li><li>'egal3'</li><li>'egal4'</li><li>'fear.dem'</li><li>'fear.rep'</li><li>'feel.asian'</li><li>'feel.black'</li><li>'feel.latino'</li><li>'feeling.dem'</li><li>'feeling.demc'</li><li>'feeling.rep'</li><li>'feeling.repc'</li><li>'female'</li><li>'feminists.therm'</li><li>'fundamental.therm'</li><li>'gay.therm'</li><li>'gays.adoption'</li><li>'gays.military'</li><li>'gov.services'</li><li>'gov.servicesCD'</li><li>'gov.servicesCR'</li><li>'gov.servicesD'</li><li>'gov.servicesR'</li><li>'hispanic'</li><li>'hope.dem'</li><li>'hope.rep'</li><li>'ideology'</li><li>'ideologyCD'</li><li>'ideologyCR'</li><li>'ideologyD'</li><li>'ideologyR'</li><li>'immigrants'</li><li>'income'</li><li>'interest.elections'</li><li>'interest.politics'</li><li>'jewish'</li><li>'jobs'</li><li>'jobsCD'</li><li>'jobsCR'</li><li>'jobsD'</li><li>'jobsR'</li><li>'know.interview.post'</li><li>'know.interview.pre'</li><li>'media'</li><li>'mode'</li><li>'moral1'</li><li>'moral2'</li><li>'moral3'</li><li>'moral4'</li><li>'nonwhite'</li><li>'other'</li><li>'other.race'</li><li>'p1'</li><li>'p2'</li><li>'p3'</li><li>'p4'</li><li>'p5'</li><li>'pid'</li><li>'primary'</li><li>'protect.gays'</li><li>'proud.dem'</li><li>'proud.rep'</li><li>'public.insurance'</li><li>'public.insuranceCD'</li><li>'public.insuranceCR'</li><li>'rep.afraid'</li><li>'rep.angry'</li><li>'rep.cares'</li><li>'rep.decent'</li><li>'rep.hope'</li><li>'rep.know'</li><li>'rep.leader'</li><li>'rid'</li><li>'rr1'</li><li>'rr2'</li><li>'rr3'</li><li>'rr4'</li><li>'split.house'</li><li>'split.senate'</li><li>'union.therm'</li><li>'vote'</li><li>'vote.house'</li><li>'vote.senate'</li><li>'voted'</li><li>'weights.all'</li><li>'weights.ftf'</li><li>'weights.web'</li><li>'white'</li><li>'women.role'</li><li>'women.roleCD'</li><li>'women.roleCR'</li><li>'year'</li><li>'rid2'</li><li>'group'</li><li>'racial.resentment'</li><li>'authoritarianism'</li><li>'efficacy'</li><li>'knowledge'</li><li>'republican'</li><li>'democrat'</li><li>'independent'</li><li>'party3'</li><li>'dem_traits'</li><li>'rep_traits'</li><li>'dem_anxiety'</li><li>'rep_anxiety'</li><li>'out_animosity'</li><li>'out_tanimosity'</li><li>'participation'</li><li>'egalitarianism'</li><li>'moral.traditionalism'</li><li>'services'</li></ol>\n"
      ],
      "text/latex": [
       "\\begin{enumerate*}\n",
       "\\item 'abortion'\n",
       "\\item 'age'\n",
       "\\item 'aid.blacks'\n",
       "\\item 'aid.blacksCD'\n",
       "\\item 'aid.blacksCR'\n",
       "\\item 'aid.blacksD'\n",
       "\\item 'aid.blacksR'\n",
       "\\item 'anger.dem'\n",
       "\\item 'anger.rep'\n",
       "\\item 'auth.1'\n",
       "\\item 'auth.2'\n",
       "\\item 'auth.3'\n",
       "\\item 'auth.4'\n",
       "\\item 'bible'\n",
       "\\item 'black'\n",
       "\\item 'catholic'\n",
       "\\item 'church'\n",
       "\\item 'college'\n",
       "\\item 'defense.spendingCD'\n",
       "\\item 'defense.spendingCR'\n",
       "\\item 'defense.spendingD'\n",
       "\\item 'defense.spendingR'\n",
       "\\item 'dem.afraid'\n",
       "\\item 'dem.angry'\n",
       "\\item 'dem.cares'\n",
       "\\item 'dem.decent'\n",
       "\\item 'dem.hope'\n",
       "\\item 'dem.know'\n",
       "\\item 'dem.leader'\n",
       "\\item 'efficacy1'\n",
       "\\item 'efficacy2'\n",
       "\\item 'efficacy3'\n",
       "\\item 'efficacy4'\n",
       "\\item 'efficacy5'\n",
       "\\item 'efficacy6'\n",
       "\\item 'efficacy7'\n",
       "\\item 'egal1'\n",
       "\\item 'egal2'\n",
       "\\item 'egal3'\n",
       "\\item 'egal4'\n",
       "\\item 'fear.dem'\n",
       "\\item 'fear.rep'\n",
       "\\item 'feel.asian'\n",
       "\\item 'feel.black'\n",
       "\\item 'feel.latino'\n",
       "\\item 'feeling.dem'\n",
       "\\item 'feeling.demc'\n",
       "\\item 'feeling.rep'\n",
       "\\item 'feeling.repc'\n",
       "\\item 'female'\n",
       "\\item 'feminists.therm'\n",
       "\\item 'fundamental.therm'\n",
       "\\item 'gay.therm'\n",
       "\\item 'gays.adoption'\n",
       "\\item 'gays.military'\n",
       "\\item 'gov.services'\n",
       "\\item 'gov.servicesCD'\n",
       "\\item 'gov.servicesCR'\n",
       "\\item 'gov.servicesD'\n",
       "\\item 'gov.servicesR'\n",
       "\\item 'hispanic'\n",
       "\\item 'hope.dem'\n",
       "\\item 'hope.rep'\n",
       "\\item 'ideology'\n",
       "\\item 'ideologyCD'\n",
       "\\item 'ideologyCR'\n",
       "\\item 'ideologyD'\n",
       "\\item 'ideologyR'\n",
       "\\item 'immigrants'\n",
       "\\item 'income'\n",
       "\\item 'interest.elections'\n",
       "\\item 'interest.politics'\n",
       "\\item 'jewish'\n",
       "\\item 'jobs'\n",
       "\\item 'jobsCD'\n",
       "\\item 'jobsCR'\n",
       "\\item 'jobsD'\n",
       "\\item 'jobsR'\n",
       "\\item 'know.interview.post'\n",
       "\\item 'know.interview.pre'\n",
       "\\item 'media'\n",
       "\\item 'mode'\n",
       "\\item 'moral1'\n",
       "\\item 'moral2'\n",
       "\\item 'moral3'\n",
       "\\item 'moral4'\n",
       "\\item 'nonwhite'\n",
       "\\item 'other'\n",
       "\\item 'other.race'\n",
       "\\item 'p1'\n",
       "\\item 'p2'\n",
       "\\item 'p3'\n",
       "\\item 'p4'\n",
       "\\item 'p5'\n",
       "\\item 'pid'\n",
       "\\item 'primary'\n",
       "\\item 'protect.gays'\n",
       "\\item 'proud.dem'\n",
       "\\item 'proud.rep'\n",
       "\\item 'public.insurance'\n",
       "\\item 'public.insuranceCD'\n",
       "\\item 'public.insuranceCR'\n",
       "\\item 'rep.afraid'\n",
       "\\item 'rep.angry'\n",
       "\\item 'rep.cares'\n",
       "\\item 'rep.decent'\n",
       "\\item 'rep.hope'\n",
       "\\item 'rep.know'\n",
       "\\item 'rep.leader'\n",
       "\\item 'rid'\n",
       "\\item 'rr1'\n",
       "\\item 'rr2'\n",
       "\\item 'rr3'\n",
       "\\item 'rr4'\n",
       "\\item 'split.house'\n",
       "\\item 'split.senate'\n",
       "\\item 'union.therm'\n",
       "\\item 'vote'\n",
       "\\item 'vote.house'\n",
       "\\item 'vote.senate'\n",
       "\\item 'voted'\n",
       "\\item 'weights.all'\n",
       "\\item 'weights.ftf'\n",
       "\\item 'weights.web'\n",
       "\\item 'white'\n",
       "\\item 'women.role'\n",
       "\\item 'women.roleCD'\n",
       "\\item 'women.roleCR'\n",
       "\\item 'year'\n",
       "\\item 'rid2'\n",
       "\\item 'group'\n",
       "\\item 'racial.resentment'\n",
       "\\item 'authoritarianism'\n",
       "\\item 'efficacy'\n",
       "\\item 'knowledge'\n",
       "\\item 'republican'\n",
       "\\item 'democrat'\n",
       "\\item 'independent'\n",
       "\\item 'party3'\n",
       "\\item 'dem\\_traits'\n",
       "\\item 'rep\\_traits'\n",
       "\\item 'dem\\_anxiety'\n",
       "\\item 'rep\\_anxiety'\n",
       "\\item 'out\\_animosity'\n",
       "\\item 'out\\_tanimosity'\n",
       "\\item 'participation'\n",
       "\\item 'egalitarianism'\n",
       "\\item 'moral.traditionalism'\n",
       "\\item 'services'\n",
       "\\end{enumerate*}\n"
      ],
      "text/markdown": [
       "1. 'abortion'\n",
       "2. 'age'\n",
       "3. 'aid.blacks'\n",
       "4. 'aid.blacksCD'\n",
       "5. 'aid.blacksCR'\n",
       "6. 'aid.blacksD'\n",
       "7. 'aid.blacksR'\n",
       "8. 'anger.dem'\n",
       "9. 'anger.rep'\n",
       "10. 'auth.1'\n",
       "11. 'auth.2'\n",
       "12. 'auth.3'\n",
       "13. 'auth.4'\n",
       "14. 'bible'\n",
       "15. 'black'\n",
       "16. 'catholic'\n",
       "17. 'church'\n",
       "18. 'college'\n",
       "19. 'defense.spendingCD'\n",
       "20. 'defense.spendingCR'\n",
       "21. 'defense.spendingD'\n",
       "22. 'defense.spendingR'\n",
       "23. 'dem.afraid'\n",
       "24. 'dem.angry'\n",
       "25. 'dem.cares'\n",
       "26. 'dem.decent'\n",
       "27. 'dem.hope'\n",
       "28. 'dem.know'\n",
       "29. 'dem.leader'\n",
       "30. 'efficacy1'\n",
       "31. 'efficacy2'\n",
       "32. 'efficacy3'\n",
       "33. 'efficacy4'\n",
       "34. 'efficacy5'\n",
       "35. 'efficacy6'\n",
       "36. 'efficacy7'\n",
       "37. 'egal1'\n",
       "38. 'egal2'\n",
       "39. 'egal3'\n",
       "40. 'egal4'\n",
       "41. 'fear.dem'\n",
       "42. 'fear.rep'\n",
       "43. 'feel.asian'\n",
       "44. 'feel.black'\n",
       "45. 'feel.latino'\n",
       "46. 'feeling.dem'\n",
       "47. 'feeling.demc'\n",
       "48. 'feeling.rep'\n",
       "49. 'feeling.repc'\n",
       "50. 'female'\n",
       "51. 'feminists.therm'\n",
       "52. 'fundamental.therm'\n",
       "53. 'gay.therm'\n",
       "54. 'gays.adoption'\n",
       "55. 'gays.military'\n",
       "56. 'gov.services'\n",
       "57. 'gov.servicesCD'\n",
       "58. 'gov.servicesCR'\n",
       "59. 'gov.servicesD'\n",
       "60. 'gov.servicesR'\n",
       "61. 'hispanic'\n",
       "62. 'hope.dem'\n",
       "63. 'hope.rep'\n",
       "64. 'ideology'\n",
       "65. 'ideologyCD'\n",
       "66. 'ideologyCR'\n",
       "67. 'ideologyD'\n",
       "68. 'ideologyR'\n",
       "69. 'immigrants'\n",
       "70. 'income'\n",
       "71. 'interest.elections'\n",
       "72. 'interest.politics'\n",
       "73. 'jewish'\n",
       "74. 'jobs'\n",
       "75. 'jobsCD'\n",
       "76. 'jobsCR'\n",
       "77. 'jobsD'\n",
       "78. 'jobsR'\n",
       "79. 'know.interview.post'\n",
       "80. 'know.interview.pre'\n",
       "81. 'media'\n",
       "82. 'mode'\n",
       "83. 'moral1'\n",
       "84. 'moral2'\n",
       "85. 'moral3'\n",
       "86. 'moral4'\n",
       "87. 'nonwhite'\n",
       "88. 'other'\n",
       "89. 'other.race'\n",
       "90. 'p1'\n",
       "91. 'p2'\n",
       "92. 'p3'\n",
       "93. 'p4'\n",
       "94. 'p5'\n",
       "95. 'pid'\n",
       "96. 'primary'\n",
       "97. 'protect.gays'\n",
       "98. 'proud.dem'\n",
       "99. 'proud.rep'\n",
       "100. 'public.insurance'\n",
       "101. 'public.insuranceCD'\n",
       "102. 'public.insuranceCR'\n",
       "103. 'rep.afraid'\n",
       "104. 'rep.angry'\n",
       "105. 'rep.cares'\n",
       "106. 'rep.decent'\n",
       "107. 'rep.hope'\n",
       "108. 'rep.know'\n",
       "109. 'rep.leader'\n",
       "110. 'rid'\n",
       "111. 'rr1'\n",
       "112. 'rr2'\n",
       "113. 'rr3'\n",
       "114. 'rr4'\n",
       "115. 'split.house'\n",
       "116. 'split.senate'\n",
       "117. 'union.therm'\n",
       "118. 'vote'\n",
       "119. 'vote.house'\n",
       "120. 'vote.senate'\n",
       "121. 'voted'\n",
       "122. 'weights.all'\n",
       "123. 'weights.ftf'\n",
       "124. 'weights.web'\n",
       "125. 'white'\n",
       "126. 'women.role'\n",
       "127. 'women.roleCD'\n",
       "128. 'women.roleCR'\n",
       "129. 'year'\n",
       "130. 'rid2'\n",
       "131. 'group'\n",
       "132. 'racial.resentment'\n",
       "133. 'authoritarianism'\n",
       "134. 'efficacy'\n",
       "135. 'knowledge'\n",
       "136. 'republican'\n",
       "137. 'democrat'\n",
       "138. 'independent'\n",
       "139. 'party3'\n",
       "140. 'dem_traits'\n",
       "141. 'rep_traits'\n",
       "142. 'dem_anxiety'\n",
       "143. 'rep_anxiety'\n",
       "144. 'out_animosity'\n",
       "145. 'out_tanimosity'\n",
       "146. 'participation'\n",
       "147. 'egalitarianism'\n",
       "148. 'moral.traditionalism'\n",
       "149. 'services'\n",
       "\n",
       "\n"
      ],
      "text/plain": [
       "  [1] \"abortion\"             \"age\"                  \"aid.blacks\"          \n",
       "  [4] \"aid.blacksCD\"         \"aid.blacksCR\"         \"aid.blacksD\"         \n",
       "  [7] \"aid.blacksR\"          \"anger.dem\"            \"anger.rep\"           \n",
       " [10] \"auth.1\"               \"auth.2\"               \"auth.3\"              \n",
       " [13] \"auth.4\"               \"bible\"                \"black\"               \n",
       " [16] \"catholic\"             \"church\"               \"college\"             \n",
       " [19] \"defense.spendingCD\"   \"defense.spendingCR\"   \"defense.spendingD\"   \n",
       " [22] \"defense.spendingR\"    \"dem.afraid\"           \"dem.angry\"           \n",
       " [25] \"dem.cares\"            \"dem.decent\"           \"dem.hope\"            \n",
       " [28] \"dem.know\"             \"dem.leader\"           \"efficacy1\"           \n",
       " [31] \"efficacy2\"            \"efficacy3\"            \"efficacy4\"           \n",
       " [34] \"efficacy5\"            \"efficacy6\"            \"efficacy7\"           \n",
       " [37] \"egal1\"                \"egal2\"                \"egal3\"               \n",
       " [40] \"egal4\"                \"fear.dem\"             \"fear.rep\"            \n",
       " [43] \"feel.asian\"           \"feel.black\"           \"feel.latino\"         \n",
       " [46] \"feeling.dem\"          \"feeling.demc\"         \"feeling.rep\"         \n",
       " [49] \"feeling.repc\"         \"female\"               \"feminists.therm\"     \n",
       " [52] \"fundamental.therm\"    \"gay.therm\"            \"gays.adoption\"       \n",
       " [55] \"gays.military\"        \"gov.services\"         \"gov.servicesCD\"      \n",
       " [58] \"gov.servicesCR\"       \"gov.servicesD\"        \"gov.servicesR\"       \n",
       " [61] \"hispanic\"             \"hope.dem\"             \"hope.rep\"            \n",
       " [64] \"ideology\"             \"ideologyCD\"           \"ideologyCR\"          \n",
       " [67] \"ideologyD\"            \"ideologyR\"            \"immigrants\"          \n",
       " [70] \"income\"               \"interest.elections\"   \"interest.politics\"   \n",
       " [73] \"jewish\"               \"jobs\"                 \"jobsCD\"              \n",
       " [76] \"jobsCR\"               \"jobsD\"                \"jobsR\"               \n",
       " [79] \"know.interview.post\"  \"know.interview.pre\"   \"media\"               \n",
       " [82] \"mode\"                 \"moral1\"               \"moral2\"              \n",
       " [85] \"moral3\"               \"moral4\"               \"nonwhite\"            \n",
       " [88] \"other\"                \"other.race\"           \"p1\"                  \n",
       " [91] \"p2\"                   \"p3\"                   \"p4\"                  \n",
       " [94] \"p5\"                   \"pid\"                  \"primary\"             \n",
       " [97] \"protect.gays\"         \"proud.dem\"            \"proud.rep\"           \n",
       "[100] \"public.insurance\"     \"public.insuranceCD\"   \"public.insuranceCR\"  \n",
       "[103] \"rep.afraid\"           \"rep.angry\"            \"rep.cares\"           \n",
       "[106] \"rep.decent\"           \"rep.hope\"             \"rep.know\"            \n",
       "[109] \"rep.leader\"           \"rid\"                  \"rr1\"                 \n",
       "[112] \"rr2\"                  \"rr3\"                  \"rr4\"                 \n",
       "[115] \"split.house\"          \"split.senate\"         \"union.therm\"         \n",
       "[118] \"vote\"                 \"vote.house\"           \"vote.senate\"         \n",
       "[121] \"voted\"                \"weights.all\"          \"weights.ftf\"         \n",
       "[124] \"weights.web\"          \"white\"                \"women.role\"          \n",
       "[127] \"women.roleCD\"         \"women.roleCR\"         \"year\"                \n",
       "[130] \"rid2\"                 \"group\"                \"racial.resentment\"   \n",
       "[133] \"authoritarianism\"     \"efficacy\"             \"knowledge\"           \n",
       "[136] \"republican\"           \"democrat\"             \"independent\"         \n",
       "[139] \"party3\"               \"dem_traits\"           \"rep_traits\"          \n",
       "[142] \"dem_anxiety\"          \"rep_anxiety\"          \"out_animosity\"       \n",
       "[145] \"out_tanimosity\"       \"participation\"        \"egalitarianism\"      \n",
       "[148] \"moral.traditionalism\" \"services\"            "
      ]
     },
     "metadata": {},
     "output_type": "display_data"
    }
   ],
   "source": [
    "names(data)"
   ]
  },
  {
   "cell_type": "code",
   "execution_count": 8,
   "metadata": {
    "vscode": {
     "languageId": "r"
    }
   },
   "outputs": [],
   "source": [
    "### I create smaller, more tractable versions of the data rather than operating on the full data frame, data.\n",
    "tmp_dat = data[,c(\"vote\", \"authoritarianism\",\n",
    "                 \"female\", \"age\", \"college\", \"income\",\n",
    "                 \"jewish\", \"catholic\", \"other\", \"year\")] %>% na.omit() %>%\n",
    "                 mutate(authoritarianism_2 = authoritarianism*authoritarianism)"
   ]
  },
  {
   "cell_type": "markdown",
   "metadata": {},
   "source": [
    "I ran these models in $\\texttt{brms}$, a useful package to run a bunch of different types of regression models in a bayesian framework. BRMS ends up just creating $\\texttt{stan}$ code that is more efficient than I could do on my own. There are three models\n",
    "\n",
    "* $\\texttt{fit0a}$ is a random intercept model. Intercepts vary by year. Everything else is fixed. \n",
    "* $\\texttt{fit0b}$ is a random intercept and random slope model. Intercepts vary by year, as does the effect of authoritarianism. Everything else is fixed. \n",
    "* $\\texttt{fit1}$ is a random intercept and random slope model. Intercepts vary by year, as does the effect of authoritarianism. Authoritarianism, however, has a quadratic effect. Everything else is fixed (and linear).\n",
    "* $\\texttt{education}$ is a random intercept and random slope model. Intercepts vary by year, as does the effect of authoritarianism. Authoritarianism, however, has a quadratic effect. I specficy an interaction between authoritarianism, and education; as well as authoritarianism$^2$ and education. The code is below. I ended up just saving the output in a list so I wouldn't need to estimate the models every time I work on the project (and we can save this for replication).\n",
    "\n"
   ]
  },
  {
   "cell_type": "markdown",
   "metadata": {},
   "source": [
    "This is the random intercept model. I ran it over 3000 iterations, 3 chains. "
   ]
  },
  {
   "cell_type": "code",
   "execution_count": 9,
   "metadata": {
    "vscode": {
     "languageId": "r"
    }
   },
   "outputs": [
    {
     "name": "stderr",
     "output_type": "stream",
     "text": [
      "Compiling Stan program...\n",
      "\n",
      "Start sampling\n",
      "\n"
     ]
    }
   ],
   "source": [
    "fit0a <- brm(vote~ female + age + college + income + jewish +\n",
    "                 catholic + other + authoritarianism +\n",
    "                 (1|year),\n",
    "                 family = bernoulli(link = \"logit\"),\n",
    "                 data = tmp_dat,\n",
    "                 chains = 3, cores = 6, seed = 1234,\n",
    "                 iter = 1000)"
   ]
  },
  {
   "cell_type": "markdown",
   "metadata": {},
   "source": [
    "This model allows for random intercepts and a random slope for authoritarianism. BRMS also estimates the covariance between the two random effects, which is important in these models."
   ]
  },
  {
   "cell_type": "code",
   "execution_count": 13,
   "metadata": {
    "vscode": {
     "languageId": "r"
    }
   },
   "outputs": [
    {
     "name": "stderr",
     "output_type": "stream",
     "text": [
      "Compiling Stan program...\n",
      "\n",
      "Start sampling\n",
      "\n"
     ]
    }
   ],
   "source": [
    "fit0b <- brm(vote~ female + age + college + income + jewish +\n",
    "                 catholic + other + authoritarianism +\n",
    "                 (1+authoritarianism|year),\n",
    "                 family = bernoulli(link = \"logit\"),\n",
    "                 data = tmp_dat,\n",
    "                 chains = 3, cores = 8, seed = 1234,\n",
    "                 iter = 1000)"
   ]
  },
  {
   "cell_type": "markdown",
   "metadata": {},
   "source": [
    "Ultimately, it's the model below that I'll use. In the post_processing notebook, I compare the model fit across these models. This analysis supports a quadratic specification."
   ]
  },
  {
   "cell_type": "code",
   "execution_count": null,
   "metadata": {
    "vscode": {
     "languageId": "r"
    }
   },
   "outputs": [],
   "source": [
    "fit1 <- brm(vote~ female + age + college + income + jewish +\n",
    "                 catholic + other + authoritarianism + authoritarianism_2 +\n",
    "                 (1+authoritarianism + authoritarianism_2|year),\n",
    "                 family = bernoulli(link = \"logit\"),\n",
    "                 data = tmp_dat,\n",
    "                 chains = 3, cores = 8, seed = 1234,\n",
    "                 iter = 1000)"
   ]
  },
  {
   "cell_type": "markdown",
   "metadata": {},
   "source": [
    "Finally, this model specifies an interaction with education. The models are saved in a list entitled, \"vote_model.rda.\" Nothing takes all that long to estimate -- but it is annoying to wait -- so I saved the output and load for subsequent analysis."
   ]
  },
  {
   "cell_type": "code",
   "execution_count": 16,
   "metadata": {
    "vscode": {
     "languageId": "r"
    }
   },
   "outputs": [
    {
     "name": "stderr",
     "output_type": "stream",
     "text": [
      "Compiling Stan program...\n",
      "\n",
      "recompiling to avoid crashing R session\n",
      "\n",
      "Start sampling\n",
      "\n",
      "Warning message:\n",
      "\"There were 13 divergent transitions after warmup. See\n",
      "https://mc-stan.org/misc/warnings.html#divergent-transitions-after-warmup\n",
      "to find out why this is a problem and how to eliminate them.\"\n",
      "Warning message:\n",
      "\"Examine the pairs() plot to diagnose sampling problems\n",
      "\"\n"
     ]
    }
   ],
   "source": [
    "education <- brm(vote~ female + age + college + income + jewish +\n",
    "                  catholic + other + authoritarianism + authoritarianism_2 +\n",
    "                  authoritarianism:college + authoritarianism_2:college +\n",
    "                  (1+ authoritarianism + authoritarianism_2 |year),\n",
    "                  family = bernoulli(link = \"logit\"),\n",
    "                  data = tmp_dat,\n",
    "                  chains = 3,\n",
    "                  cores = 6,\n",
    "                  seed = 1234,\n",
    "                  iter = 2000)\n",
    "vote_models = list(fit0a, fit0b, fit1, education)\n",
    "save(vote_models, file = \"vote_model.rda\")"
   ]
  },
  {
   "cell_type": "markdown",
   "metadata": {},
   "source": [
    "## Party Identification Models\n",
    "\n",
    "\n",
    "Below I fit two models to a mulltinomial logit predicting party identification. One includes the effect of authortarianism, and authoritarianism-squared; the second includes an interaction with education. I save these in a list entitled, party_models.rda."
   ]
  },
  {
   "cell_type": "code",
   "execution_count": 17,
   "metadata": {
    "vscode": {
     "languageId": "r"
    }
   },
   "outputs": [],
   "source": [
    "data$party3      = recode(data$pid*6 + 1, `1` = 1, `2` = 1, `3` = 2 ,`4` = 2, `5` = 2, `6` = 3, `7` = 3) %>% suppressWarnings()\n",
    "data$republican  = recode(data$pid*6 + 1, `1` = 0, `2` = 0, `3` = 0 ,`4` = 0, `5` = 0, `6` = 1, `7` = 1) %>% suppressWarnings()\n",
    "data$democrat    = recode(data$pid*6 + 1, `1` = 1, `2` = 1, `3` = 0 ,`4` = 0, `5` = 0, `6` = 0, `7` = 0) %>% suppressWarnings()\n",
    "data$independent = recode(data$pid*6 + 1, `1` = 0, `2` = 0, `3` = 1 ,`4` = 1, `5` = 1, `6` = 0, `7` = 0) %>% suppressWarnings()\n",
    "data$feeling.repc = zero.one(data$feeling.repc) %>% as.numeric\n",
    "data$feeling.demc = zero.one(data$feeling.demc) %>% as.numeric\n",
    "data$feeling.rep  = zero.one(data$feeling.rep) %>% as.numeric\n",
    "data$feeling.dem  = zero.one(data$feeling.dem) %>% as.numeric\n",
    "\n",
    "tmp_dat = data[,c(\"party3\", \"authoritarianism\",\n",
    "                 \"female\", \"age\", \"college\", \"income\",\n",
    "                 \"jewish\", \"catholic\", \"other\", \"year\")] %>% na.omit() %>%\n",
    "                 mutate(authoritarianism_2 = authoritarianism*authoritarianism)\n",
    "\n",
    "\n"
   ]
  },
  {
   "cell_type": "code",
   "execution_count": null,
   "metadata": {
    "vscode": {
     "languageId": "r"
    }
   },
   "outputs": [],
   "source": [
    "mod <- brm(party3 ~ female + age + college + income + jewish +\n",
    "                  catholic + other + authoritarianism + authoritarianism_2 +\n",
    "                  authoritarianism:college + authoritarianism_2:college +\n",
    "                 (1+authoritarianism + authoritarianism_2|year),\n",
    "                  data = tmp_dat,\n",
    "                  family = \"categorical\",\n",
    "                  chains = 2,\n",
    "                  cores = 6,\n",
    "                  seed = 1234,\n",
    "                  iter = 4000)"
   ]
  },
  {
   "cell_type": "code",
   "execution_count": null,
   "metadata": {
    "vscode": {
     "languageId": "r"
    }
   },
   "outputs": [],
   "source": [
    "main <- brm(party3 ~ female + age + college + income + jewish +\n",
    "                  catholic + other + authoritarianism + authoritarianism_2 +\n",
    "                 (1+authoritarianism + authoritarianism_2|year),\n",
    "                  data = tmp_dat,\n",
    "                  family = \"categorical\",\n",
    "                  chains = 2,\n",
    "                  cores = 6,\n",
    "                  seed = 1234,\n",
    "                  iter = 1200)\n",
    "party_model = list(mod, main)\n",
    "save(party_model, file = \"/Users/Chris/Dropbox/github_repos/Authoritarianism_V2/Chapter Analysis/Chapter 6 Analysis/party_model.rda\")"
   ]
  },
  {
   "cell_type": "markdown",
   "metadata": {},
   "source": [
    "## Affective Polarization Models\n",
    "\n",
    "The final component in chapter 6 is the affective polarization analysis -- presented as bar charts. Below I estimate the effects for each variable. I did attempt to bind these into a single multivariate regression model (with multiple DVs). This is accomplished using the mvbind command. It took forever to run, so I just did it separately. Finally, I estimate the influence of education (on the difference score)."
   ]
  },
  {
   "cell_type": "code",
   "execution_count": 20,
   "metadata": {
    "vscode": {
     "languageId": "r"
    }
   },
   "outputs": [],
   "source": [
    "data$party3      = recode(data$pid*6 + 1, `1` = 1, `2` = 1, `3` = 2 ,`4` = 2, `5` = 2, `6` = 3, `7` = 3) %>% suppressWarnings()\n",
    "data$republican  = recode(data$pid*6 + 1, `1` = 0, `2` = 0, `3` = 0 ,`4` = 0, `5` = 0, `6` = 1, `7` = 1) %>% suppressWarnings()\n",
    "data$democrat    = recode(data$pid*6 + 1, `1` = 1, `2` = 1, `3` = 0 ,`4` = 0, `5` = 0, `6` = 0, `7` = 0) %>% suppressWarnings()\n",
    "data$independent = recode(data$pid*6 + 1, `1` = 0, `2` = 0, `3` = 1 ,`4` = 1, `5` = 1, `6` = 0, `7` = 0) %>% suppressWarnings()\n",
    "data$feeling.repc = zero.one(data$feeling.repc) %>% as.numeric\n",
    "data$feeling.demc = zero.one(data$feeling.demc) %>% as.numeric\n",
    "data$feeling.rep  = zero.one(data$feeling.rep) %>% as.numeric\n",
    "data$feeling.dem  = zero.one(data$feeling.dem) %>% as.numeric\n",
    "\n",
    "tmp_dat = data[,c(\"party3\", \"authoritarianism\",\n",
    "                 \"female\", \"age\", \"college\", \"income\",\n",
    "                 \"jewish\", \"catholic\", \"other\", \"year\")] %>% na.omit() %>%\n",
    "                 mutate(authoritarianism_2 = authoritarianism*authoritarianism)\n",
    "\n",
    "tmp_dat = data[,c(\"feeling.repc\", \"feeling.demc\", \"feeling.rep\", \"feeling.dem\",\n",
    "                 \"authoritarianism\", \"authoritarianism_2\",\n",
    "                 \"female\", \"age\", \"college\", \"income\",\n",
    "                 \"jewish\", \"catholic\", \"other\", \"year\")] %>% na.omit()\n"
   ]
  },
  {
   "cell_type": "code",
   "execution_count": null,
   "metadata": {
    "vscode": {
     "languageId": "r"
    }
   },
   "outputs": [],
   "source": [
    "library(brms)\n",
    "demc  <- brm(feeling.demc~ female + age + college + income + jewish +\n",
    "                  catholic + other + authoritarianism + authoritarianism_2 +\n",
    "                  (1+ authoritarianism|year),\n",
    "                  data = tmp_dat,\n",
    "                  family = \"gaussian\",\n",
    "                  chains = 2,\n",
    "                  cores = 6,\n",
    "                  seed = 1234,\n",
    "                  iter = 1200)\n"
   ]
  },
  {
   "cell_type": "code",
   "execution_count": null,
   "metadata": {
    "vscode": {
     "languageId": "r"
    }
   },
   "outputs": [],
   "source": [
    "dems <- brm(feeling.dem~ female + age + college + income + jewish +\n",
    "                  catholic + other + authoritarianism + authoritarianism_2 +\n",
    "                  (1+ authoritarianism|year),\n",
    "                  data = tmp_dat,\n",
    "                  family = \"gaussian\",\n",
    "                  chains = 2,\n",
    "                  cores = 6,\n",
    "                  seed = 1234,\n",
    "                  iter = 1200)\n"
   ]
  },
  {
   "cell_type": "code",
   "execution_count": null,
   "metadata": {
    "vscode": {
     "languageId": "r"
    }
   },
   "outputs": [],
   "source": [
    "\n",
    "reps <- brm(feeling.rep~ female + age + college + income + jewish +\n",
    "                  catholic + other + authoritarianism + authoritarianism_2 +\n",
    "                  (1+ authoritarianism+ authoritarianism_2|year),\n",
    "                  data = tmp_dat,\n",
    "                  family = \"gaussian\",\n",
    "                   chains = 2,\n",
    "                  cores = 6,\n",
    "                  seed = 1234,\n",
    "                  iter = 1200)\n"
   ]
  },
  {
   "cell_type": "code",
   "execution_count": null,
   "metadata": {
    "vscode": {
     "languageId": "r"
    }
   },
   "outputs": [],
   "source": [
    "\n",
    "repc <- brm(feeling.repc~ female + age + college + income + jewish +\n",
    "                  catholic + other + authoritarianism + authoritarianism_2 +\n",
    "                  (1+ authoritarianism+ authoritarianism_2|year),\n",
    "                  data = tmp_dat,\n",
    "                  family = \"gaussian\",\n",
    "                   chains = 2,\n",
    "                  cores = 6,\n",
    "                  seed = 1234,\n",
    "                  iter = 1200)\n",
    "affect = list(dems, reps, demc, repc)\n",
    "save(affect, file = \"/Users/Chris/Dropbox/github_repos/Authoritarianism_V2/Chapter Analysis/Chapter 6 Analysis/affect.rda\")"
   ]
  },
  {
   "cell_type": "code",
   "execution_count": null,
   "metadata": {
    "vscode": {
     "languageId": "r"
    }
   },
   "outputs": [],
   "source": [
    "\n",
    "extremity <- brm(I(feeling.rep - feeling.dem)~ female + age + college + income + jewish +\n",
    "                  catholic + other + authoritarianism + authoritarianism_2 +\n",
    "                  authoritarianism:college + authoritarianism_2:college +\n",
    "                  (1+ authoritarianism+ authoritarianism_2|year),\n",
    "                  data = tmp_dat,\n",
    "                  family = \"gaussian\",\n",
    "                   chains = 2,\n",
    "                  cores = 6,\n",
    "                  seed = 1234,\n",
    "                  iter = 1200)\n",
    "affect = list(dems, reps, demc, repc, extremity)\n",
    "save(affect, file = \"affect.rda\")"
   ]
  },
  {
   "cell_type": "code",
   "execution_count": null,
   "metadata": {
    "vscode": {
     "languageId": "r"
    }
   },
   "outputs": [],
   "source": [
    "\n",
    "extremity2 <- brm(I(feeling.repc - feeling.demc)~ female + age + college + income + jewish +\n",
    "                  catholic + other + authoritarianism + authoritarianism_2 +\n",
    "                  authoritarianism:college + authoritarianism_2:college +\n",
    "                  (1+ authoritarianism+ authoritarianism_2|year),\n",
    "                  data = tmp_dat,\n",
    "                  family = \"gaussian\",\n",
    "                   chains = 2,\n",
    "                  cores = 6,\n",
    "                  seed = 1234,\n",
    "                  iter = 1200)\n",
    "save(extremity2, file = \"/Users/Chris/Dropbox/github_repos/Authoritarianism_V2/Chapter Analysis/Chapter 6 Analysis/affect2.rda\")"
   ]
  },
  {
   "cell_type": "markdown",
   "metadata": {},
   "source": [
    "# Indirect and Direct Effects\n",
    "\n",
    "The quadratic term, coupled with the pid x authoritarianism interaction makes this a particularly complicated model. I wasn't exactly sure how to do this with existing packages. I found this paper which uses something quite similar to what I had proposed in an earlier draft. It's really complex. "
   ]
  },
  {
   "cell_type": "code",
   "execution_count": 28,
   "metadata": {
    "vscode": {
     "languageId": "r"
    }
   },
   "outputs": [],
   "source": [
    "##Load dependencies, packages, data, etc ##\n",
    "# More transformations and data recodes.....\n",
    "rm(list = ls())\n",
    "library(brms)\n",
    "#library(tidyverse)\n",
    "library(ggplot2)\n",
    "library(modelr)\n",
    "library(tidybayes)\n",
    "library(dplyr)\n",
    "library(cowplot)\n",
    "#### Some helper functions\n",
    "data_location = \"/Users/chrisweber/Desktop/Authoritarianism_V2/Authoritarianism_V2/clean_data/\"\n",
    "setwd(\"/Users/Chris/Dropbox/github_repos/Authoritarianism_V2/Chapter Analysis/Chapter 6 Analysis\")\n",
    "#### Load cleaned data\n",
    "load(\"/Users/chrisweber/Desktop/Authoritarianism_V2/Authoritarianism_V2/clean_data/pooled.auth.rda\")\n",
    "ggtheme = theme(\n",
    "        plot.title=element_text(face=\"bold\",hjust=-.08,vjust=0,colour=\"#3C3C3C\",size=12),\n",
    "        axis.text.x=element_text(size=9,colour=\"#535353\",face=\"bold\"),\n",
    "        axis.text.y=element_text(size=9,colour=\"#535353\",face=\"bold\"),\n",
    "        axis.title.y=element_text(size=11,colour=\"#535353\",face=\"bold\",vjust=1.5),\n",
    "        axis.ticks=element_blank(),\n",
    "        panel.grid.major=element_line(colour=\"#D0D0D0\",size=.25),\n",
    "        panel.background=element_rect(fill=\"white\"))\n",
    "####\n",
    "data$party3      = recode(data$pid*6 + 1, `1` = 1, `2` = 1, `3` = 2 ,`4` = 2, `5` = 2, `6` = 3, `7` = 3) %>% suppressWarnings()\n",
    "data$republican  = recode(data$pid*6 + 1, `1` = 0, `2` = 0, `3` = 0 ,`4` = 0, `5` = 0, `6` = 1, `7` = 1) %>% suppressWarnings()\n",
    "data$democrat    = recode(data$pid*6 + 1, `1` = 1, `2` = 1, `3` = 0 ,`4` = 0, `5` = 0, `6` = 0, `7` = 0) %>% suppressWarnings()\n",
    "data$independent = recode(data$pid*6 + 1, `1` = 0, `2` = 0, `3` = 1 ,`4` = 1, `5` = 1, `6` = 0, `7` = 0) %>% suppressWarnings()\n",
    "data$feeling.repc = zero.one(data$feeling.repc) %>% as.numeric\n",
    "data$feeling.demc = zero.one(data$feeling.demc) %>% as.numeric\n",
    "data$feeling.rep  = zero.one(data$feeling.rep) %>% as.numeric\n",
    "data$feeling.dem  = zero.one(data$feeling.dem) %>% as.numeric\n"
   ]
  },
  {
   "cell_type": "code",
   "execution_count": 29,
   "metadata": {
    "vscode": {
     "languageId": "r"
    }
   },
   "outputs": [],
   "source": [
    "\n",
    "stan_data = function(data, filter_at = 1990){\n",
    "                    tmp = data[,c(\"vote\", \"authoritarianism\", \"party3\", \"feeling.repc\", \"feeling.demc\",\n",
    "                            \"female\", \"age\", \"college\", \"income\",\n",
    "                            \"jewish\", \"catholic\", \"other\", \"year\")] %>% na.omit() %>%\n",
    "                                mutate(authoritarianism_2 = authoritarianism*authoritarianism) %>%  na.omit()%>%\n",
    "                                subset(party3!=2)   %>%\n",
    "                                mutate(party2 = recode(party3, `1` = 0, `3` =1))\n",
    "                    tmp = subset(tmp, year == filter_at)\n",
    "                    CONTROLS = tmp[,c(\"female\", \"age\", \"college\", \"income\",\n",
    "                                    \"jewish\", \"catholic\", \"other\")]\n",
    "\n",
    "\n",
    "                    X = cbind(1, CONTROLS)\n",
    "\n",
    "                    stan_dat = list(N = nrow(tmp),\n",
    "                            P = ncol(CONTROLS) + 1,\n",
    "                            X = X,\n",
    "                            A  = tmp$authoritarianism,\n",
    "                            A_2 = tmp$authoritarianism^2,\n",
    "                            M   = tmp$party2,\n",
    "                            MxA =  tmp$party2 * tmp$authoritarianism,\n",
    "                            MxA_2 = tmp$party2 * tmp$authoritarianism_2,\n",
    "                            Y    = tmp$vote,\n",
    "                            alpha_m = rep(0, ncol(X) + 5 ),\n",
    "                            beta_m =  rep(0, ncol(X) + 2),\n",
    "                            alpha_vcv = 2.5 * diag(ncol(X) + 5 ),\n",
    "                            beta_vcv  = 2.5 * diag(ncol(X) + 2 ))\n",
    "\n",
    "                    return(stan_dat)\n",
    "\n",
    "\n",
    "}"
   ]
  },
  {
   "cell_type": "code",
   "execution_count": 30,
   "metadata": {
    "vscode": {
     "languageId": "r"
    }
   },
   "outputs": [],
   "source": [
    "moderated_effect = \"data{\n",
    "                int<lower=0> N;                           // number of observations\n",
    "                int<lower=0> P;                           // number of columns in the control matrix. Call control the matrix of rhs variables minus pid and authoritarianism\n",
    "                matrix[N, P] X;                           // controls, so excluding authoritariaism and pid\n",
    "                vector[N]    A;                          // observed authoritarianism, again just extracting stuff from the data matrix\n",
    "                vector[N]    A_2;\n",
    "                int<lower=0,upper=1> M[N];\n",
    "                real MxA[N];\n",
    "                real MxA_2[N];           // observed pid\n",
    "                int<lower=0,upper=1> Y[N];               // voting\n",
    "                vector[P + 5]  alpha_m;                   // mean of regression priors.  Again, just declaring according to the\n",
    "                vector[P + 2]  beta_m;                    // vector of priors for the mediation equation, PID = .....\n",
    "                cov_matrix[P + 5] alpha_vcv;             // variance-covariance of regression priors\n",
    "                cov_matrix[P + 2] beta_vcv;\n",
    "                    }\n",
    "        transformed data{\n",
    "                vector[N] boot_probs = rep_vector(1.0/N, N);     // make vector of 1/N for (classical) bootstrapping. This just assigns an equal probability for bootstrap samples..\n",
    "                vector[N] vM   = to_vector(M);                  // make vector copy of M\n",
    "                vector[N] vMxA = to_vector(MxA);                 // make vector copy of MxA\n",
    "                vector[N] vMxA_2 = to_vector(MxA_2);             // make vector copy of MxA_2\n",
    "                }\n",
    "        parameters{\n",
    "                vector[P + 5] alpha;                         // regression coefficients (outcome model), add 2 because the size of this vector also include pid/auth ints included\n",
    "                vector[P + 2] beta;                          // regression coefficients (mediator model), add 1 because must also include auth.\n",
    "                }\n",
    "        transformed parameters {\n",
    "                //Save all the parameters in a set of vectors; alpha for the outcome, beta for the mediation\n",
    "                vector[P] betaZ       = head(beta, P);\n",
    "                vector[P] alphaZ      = head(alpha, P);\n",
    "                real betaA            = beta[P + 1];\n",
    "                real betaA_2          = beta[P + 2];\n",
    "                real alphaA           = alpha[P + 1];\n",
    "                real alphaA_2         = alpha[P + 2];\n",
    "                real alphaM           = alpha[P + 3];\n",
    "                real alphaMxA         = alpha[P + 4];\n",
    "                real alphaMxA_2       = alpha[P + 5];\n",
    "\n",
    "            }\n",
    "        model {\n",
    "            alpha ~ multi_normal(alpha_m, alpha_vcv);                   // priors on causal coefficients weakly informative for binary exposure\n",
    "            beta  ~ multi_normal(beta_m, beta_vcv);\n",
    "            // Likelihood in the mediation -- pid model\n",
    "            M ~ bernoulli_logit(X * betaZ +  A * betaA + A_2 * betaA_2);\n",
    "           // Likelihood in the outcome -- vote model\n",
    "            Y ~ bernoulli_logit(X * alphaZ + A * alphaA +  A_2 * alphaA_2 + vM * alphaM + vMxA * alphaMxA + vMxA_2*alphaMxA_2);\n",
    "                        }\n",
    "\n",
    "        generated quantities{\n",
    "            int row_i;\n",
    "            real NDE_0 = 0;\n",
    "            real NDE_1 = 0;\n",
    "\n",
    "            real NIE_0 = 0;\n",
    "            real NIE_1 = 0;\n",
    "\n",
    "            vector[N] M_a0;\n",
    "            vector[N] M_a1;\n",
    "\n",
    "            vector[N] Y_a1_m0;\n",
    "            vector[N] Y_a0_m0;\n",
    "            vector[N] Y_a1_m1;\n",
    "            vector[N] Y_a0_m1;\n",
    "        for(n in 1:N){\n",
    "            row_i = categorical_rng(boot_probs);\n",
    "            M_a0[n] = bernoulli_logit_rng(X[row_i] * betaZ );\n",
    "            M_a1[n] = bernoulli_logit_rng(X[row_i] * betaZ +  betaA + betaA_2);\n",
    "            //Use these draws to form various NIE, NDE estimands\n",
    "            //NDE -- Dem and Rep\n",
    "            Y_a1_m0[n] = bernoulli_logit_rng(X[row_i] * alphaZ + M_a0[n] * alphaM + alphaA + alphaA_2 + M_a0[n]*1*alphaMxA  + M_a0[n]*1*alphaMxA_2);\n",
    "            Y_a0_m0[n] = bernoulli_logit_rng(X[row_i] * alphaZ + M_a0[n] * alphaM);\n",
    "\n",
    "            Y_a1_m1[n] = bernoulli_logit_rng(X[row_i] * alphaZ + M_a1[n] * alphaM + alphaA + alphaA_2 + M_a1[n]*1*alphaMxA  + M_a1[n]*1*alphaMxA_2);\n",
    "            Y_a0_m1[n] = bernoulli_logit_rng(X[row_i] * alphaZ + M_a1[n] * alphaM);\n",
    "        NDE_0 = NDE_0 + (Y_a1_m0[n] - Y_a0_m0[n])/N;\n",
    "        NDE_1 = NDE_1 + (Y_a1_m1[n] - Y_a0_m1[n])/N;\n",
    "        NIE_0 = NIE_0 + (Y_a0_m1[n] - Y_a0_m0[n])/N;\n",
    "        NIE_1 = NIE_1 + (Y_a1_m1[n] - Y_a1_m0[n])/N;\n",
    "    }\n",
    "}\n",
    "\n",
    "\""
   ]
  },
  {
   "cell_type": "code",
   "execution_count": 31,
   "metadata": {
    "vscode": {
     "languageId": "r"
    }
   },
   "outputs": [],
   "source": [
    "# Feeling Thermometer\n",
    "\n",
    "moderated_effect_linear = \"data{\n",
    "                int<lower=0> N;                           // number of observations\n",
    "                int<lower=0> P;                           // number of columns in the control matrix. Call control the matrix of rhs variables minus pid and authoritarianism\n",
    "                matrix[N, P] X;                           // controls, so excluding authoritariaism and pid\n",
    "                vector[N]    A;                          // observed authoritarianism, again just extracting stuff from the data matrix\n",
    "                vector[N]    A_2;\n",
    "                int<lower=0,upper=1> M[N];\n",
    "                real MxA[N];\n",
    "                real MxA_2[N];           // observed pid\n",
    "                real Y[N];               // ft\n",
    "                vector[P + 5]  alpha_m;                   // mean of regression priors.  Again, just declaring according to the\n",
    "                vector[P + 2]  beta_m;                    // vector of priors for the mediation equation, PID = .....\n",
    "                cov_matrix[P + 5] alpha_vcv;             // variance-covariance of regression priors\n",
    "                cov_matrix[P + 2] beta_vcv;\n",
    "                    }\n",
    "        transformed data{\n",
    "                vector[N] boot_probs = rep_vector(1.0/N, N);     // make vector of 1/N for (classical) bootstrapping. This just assigns an equal probability for bootstrap samples..\n",
    "                vector[N] vM   = to_vector(M);                  // make vector copy of M\n",
    "                vector[N] vMxA = to_vector(MxA);                 // make vector copy of MxA\n",
    "                vector[N] vMxA_2 = to_vector(MxA_2);             // make vector copy of MxA_2\n",
    "                }\n",
    "        parameters{\n",
    "                vector[P + 5] alpha;                         // regression coefficients (outcome model), add 2 because the size of this vector also include pid/auth ints included\n",
    "                vector[P + 2] beta;                          // regression coefficients (mediator model), add 1 because must also include auth.\n",
    "                real<lower=0>sigma;\n",
    "                }\n",
    "        transformed parameters {\n",
    "                //Save all the parameters in a set of vectors; alpha for the outcome, beta for the mediation\n",
    "                vector[P] betaZ       = head(beta, P);\n",
    "                vector[P] alphaZ      = head(alpha, P);\n",
    "                real betaA            = beta[P + 1];\n",
    "                real betaA_2          = beta[P + 2];\n",
    "                real alphaA           = alpha[P + 1];\n",
    "                real alphaA_2         = alpha[P + 2];\n",
    "                real alphaM           = alpha[P + 3];\n",
    "                real alphaMxA         = alpha[P + 4];\n",
    "                real alphaMxA_2       = alpha[P + 5];\n",
    "\n",
    "            }\n",
    "        model {\n",
    "            alpha ~ multi_normal(alpha_m, alpha_vcv);                   // priors on causal coefficients weakly informative for binary exposure\n",
    "            beta  ~ multi_normal(beta_m, beta_vcv);\n",
    "            // Likelihood in the mediation -- pid model\n",
    "            M ~ bernoulli_logit(X * betaZ +  A * betaA + A_2 * betaA_2);\n",
    "           // Likelihood in the outcome -- vote model\n",
    "            Y ~ normal(X * alphaZ + A * alphaA +  A_2 * alphaA_2 + vM * alphaM + vMxA * alphaMxA + vMxA_2*alphaMxA_2, sigma);\n",
    "                        }\n",
    "\n",
    "        generated quantities{\n",
    "            int row_i;\n",
    "            real NDE_0 = 0;\n",
    "            real NDE_1 = 0;\n",
    "\n",
    "            real NIE_0 = 0;\n",
    "            real NIE_1 = 0;\n",
    "\n",
    "            vector[N] M_a0;\n",
    "            vector[N] M_a1;\n",
    "\n",
    "            vector[N] Y_a1_m0;\n",
    "            vector[N] Y_a0_m0;\n",
    "            vector[N] Y_a1_m1;\n",
    "            vector[N] Y_a0_m1;\n",
    "        for(n in 1:N){\n",
    "            row_i = categorical_rng(boot_probs);\n",
    "            M_a0[n] = bernoulli_logit_rng(X[row_i] * betaZ );\n",
    "            M_a1[n] = bernoulli_logit_rng(X[row_i] * betaZ +  betaA + betaA_2);\n",
    "            //Use these draws to form various NIE, NDE estimands\n",
    "            //NDE -- Dem and Rep\n",
    "            Y_a1_m0[n] = normal_rng(X[row_i] * alphaZ + M_a0[n] * alphaM + alphaA + alphaA_2 + M_a0[n]*1*alphaMxA  + M_a0[n]*1*alphaMxA_2, sigma);\n",
    "            Y_a0_m0[n] = normal_rng(X[row_i] * alphaZ + M_a0[n] * alphaM, sigma);\n",
    "\n",
    "            Y_a1_m1[n] = normal_rng(X[row_i] * alphaZ + M_a1[n] * alphaM + alphaA + alphaA_2 + M_a1[n]*1*alphaMxA  + M_a1[n]*1*alphaMxA_2, sigma);\n",
    "            Y_a0_m1[n] = normal_rng(X[row_i] * alphaZ + M_a1[n] * alphaM, sigma);\n",
    "        NDE_0 = NDE_0 + (Y_a1_m0[n] - Y_a0_m0[n])/N;\n",
    "        NDE_1 = NDE_1 + (Y_a1_m1[n] - Y_a0_m1[n])/N;\n",
    "        NIE_0 = NIE_0 + (Y_a0_m1[n] - Y_a0_m0[n])/N;\n",
    "        NIE_1 = NIE_1 + (Y_a1_m1[n] - Y_a1_m0[n])/N;\n",
    "    }\n",
    "}\n",
    "\n",
    "\""
   ]
  },
  {
   "cell_type": "code",
   "execution_count": 32,
   "metadata": {
    "vscode": {
     "languageId": "r"
    }
   },
   "outputs": [
    {
     "name": "stderr",
     "output_type": "stream",
     "text": [
      "Loading required package: StanHeaders\n",
      "\n",
      "rstan (Version 2.21.3, GitRev: 2e1f913d3ca3)\n",
      "\n",
      "For execution on a local, multicore CPU with excess RAM we recommend calling\n",
      "options(mc.cores = parallel::detectCores()).\n",
      "To avoid recompilation of unchanged Stan programs, we recommend calling\n",
      "rstan_options(auto_write = TRUE)\n",
      "\n",
      "recompiling to avoid crashing R session\n",
      "\n",
      "recompiling to avoid crashing R session\n",
      "\n",
      "recompiling to avoid crashing R session\n",
      "\n",
      "recompiling to avoid crashing R session\n",
      "\n"
     ]
    }
   ],
   "source": [
    "library(\"rstan\")\n",
    "### Loops through and runs the model on each year. Again, I didn't bother with a multilevel specification here.\n",
    "for(yy in c(1992, 2000, 2004, 2008, 2012, 2016, 2020)){\n",
    "    assign(paste0(\"effect\", yy), stan(model_code = moderated_effect, data = stan_data(data, filter_at = yy), iter = 1000,\n",
    "                                                                                chains = 3,\n",
    "                                                                                cores = 6,\n",
    "                                                                                seed = 1234)%>% summary(pars = c(\"NIE_0\", \"NIE_1\", \"NDE_0\", \"NDE_1\"))\n",
    "                                                                                )\n",
    "\n",
    "}\n"
   ]
  },
  {
   "cell_type": "code",
   "execution_count": 33,
   "metadata": {
    "vscode": {
     "languageId": "r"
    }
   },
   "outputs": [],
   "source": [
    "plt1 = rbind(\n",
    "        effect1992$summary,\n",
    "        effect2000$summary,\n",
    "        effect2004$summary,\n",
    "        effect2008$summary,\n",
    "        effect2012$summary,\n",
    "        effect2016$summary,\n",
    "        effect2020$summary) %>% data.frame()\n",
    "save(plt1, file = \"indirect_vote.rda\")"
   ]
  },
  {
   "cell_type": "code",
   "execution_count": 36,
   "metadata": {
    "vscode": {
     "languageId": "r"
    }
   },
   "outputs": [],
   "source": [
    "library(rstan)\n",
    "\n",
    "stan_data = function(data, filter_at = 1992){\n",
    "                    tmp = data[,c(\"vote\", \"authoritarianism\", \"party3\", \"feeling.repc\", \"feeling.demc\",\n",
    "                            \"female\", \"age\", \"college\", \"income\",\n",
    "                            \"jewish\", \"catholic\", \"other\", \"year\")] %>% na.omit() %>%\n",
    "                                mutate(authoritarianism_2 = authoritarianism*authoritarianism) %>%  na.omit()%>%\n",
    "                                subset(party3!=2)   %>%\n",
    "                                mutate(party2 = recode(party3, `1` = 0, `3` =1))\n",
    "                    tmp = subset(tmp, year == filter_at)\n",
    "                    CONTROLS = tmp[,c(\"female\", \"age\", \"college\", \"income\",\n",
    "                                    \"jewish\", \"catholic\", \"other\")]\n",
    "\n",
    "\n",
    "                    X = cbind(1, CONTROLS)\n",
    "\n",
    "                    stan_dat = list(N = nrow(tmp),\n",
    "                            P = ncol(CONTROLS) + 1,\n",
    "                            X = X,\n",
    "                            A  = tmp$authoritarianism,\n",
    "                            A_2 = tmp$authoritarianism^2,\n",
    "                            M   = tmp$party2,\n",
    "                            MxA =  tmp$party2 * tmp$authoritarianism,\n",
    "                            MxA_2 = tmp$party2 * tmp$authoritarianism_2,\n",
    "                            Y    = tmp$feeling.repc - tmp$feeling.demc,\n",
    "                            alpha_m = rep(0, ncol(X) + 5 ),\n",
    "                            beta_m =  rep(0, ncol(X) + 2),\n",
    "                            alpha_vcv = 2.5 * diag(ncol(X) + 5 ),\n",
    "                            beta_vcv  = 2.5 * diag(ncol(X) + 2 ))\n",
    "\n",
    "                    return(stan_dat)\n",
    "\n",
    "\n",
    "}\n",
    "for(year in c(1992, 2000, 2004, 2008, 2012, 2016, 2020)){\n",
    "    assign(paste0(\"effect\", year), stan(model_code = moderated_effect_linear, data = stan_data(data, filter_at = yy), iter = 1000,\n",
    "                                                                                chains = 3,\n",
    "                                                                                cores = 6,\n",
    "                                                                                seed = 1234)%>% summary(pars = c(\"NIE_0\", \"NIE_1\", \"NDE_0\", \"NDE_1\"))\n",
    "                                                                                )\n",
    "\n",
    "}\n",
    "plt2 = rbind(\n",
    "        effect1992$summary,\n",
    "        effect2000$summary,\n",
    "        effect2004$summary,\n",
    "        effect2008$summary,\n",
    "        effect2012$summary,\n",
    "        effect2016$summary,\n",
    "        effect2020$summary) %>% data.frame()\n"
   ]
  },
  {
   "cell_type": "code",
   "execution_count": 37,
   "metadata": {
    "vscode": {
     "languageId": "r"
    }
   },
   "outputs": [],
   "source": [
    "save(list(plt1, plt2), file = \"indirect.rda\")"
   ]
  }
 ],
 "metadata": {
  "kernelspec": {
   "display_name": "R",
   "language": "R",
   "name": "ir"
  },
  "language_info": {
   "codemirror_mode": "r",
   "file_extension": ".r",
   "mimetype": "text/x-r-source",
   "name": "R",
   "pygments_lexer": "r",
   "version": "4.2.0"
  },
  "orig_nbformat": 4
 },
 "nbformat": 4,
 "nbformat_minor": 2
}
